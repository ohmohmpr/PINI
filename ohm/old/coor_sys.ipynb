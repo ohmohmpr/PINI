{
 "cells": [
  {
   "cell_type": "code",
   "execution_count": 1,
   "id": "2aa213f3-c2d1-483b-9745-ff8a84284752",
   "metadata": {},
   "outputs": [],
   "source": [
    "import numpy as np\n",
    "np.set_printoptions(precision=1)"
   ]
  },
  {
   "cell_type": "code",
   "execution_count": 2,
   "id": "6cc325b8-289b-4b14-8b2d-525ac379d549",
   "metadata": {},
   "outputs": [],
   "source": [
    "# m2dgr\n",
    "# imu_origin = np.array([[1, 0, 0], \n",
    "#                        [0, 1, 0], \n",
    "#                        [0, 0, 1,]])\n",
    "# imu_tran_R = np.array([ [1,0,0],\n",
    "#                         [0,-1,0], \n",
    "#                         [0,0,-1]])\n",
    "\n",
    "# camera_imu_origin = np.array([[0, 0, 1],\n",
    "#                                [-1, 0, 0],\n",
    "#                                [0, -1, 0]])\n",
    "# #camera imu\n",
    "# imu_tran_R = np.array([[0, 0, 1],\n",
    "#                        [1, 0, 0],\n",
    "#                        [0, 1, 0]])\n",
    "# imu_tran_R @ np.linalg.inv(camera_imu_origin)"
   ]
  },
  {
   "cell_type": "code",
   "execution_count": 3,
   "id": "719ba7b2-2ddc-46ac-87bc-3605b106a39f",
   "metadata": {},
   "outputs": [
    {
     "data": {
      "text/plain": [
       "array([[0, 0, 1],\n",
       "       [1, 0, 0],\n",
       "       [0, 1, 0]])"
      ]
     },
     "execution_count": 3,
     "metadata": {},
     "output_type": "execute_result"
    }
   ],
   "source": [
    "# newer college 64\n",
    "imu_origin = np.array([[-1, 0, 0],\n",
    "                       [0, -1, 0],\n",
    "                       [0, 0, 1]])\n",
    "imu_tran_R = np.array([ [ -1, 0, 0],\n",
    "                      [ 0, 1, 0],\n",
    "                      [ 0, 0,-1]])\n",
    "\n",
    "camera_imu_origin = np.array([[0, 0, 1],\n",
    "                               [-1, 0, 0],\n",
    "                               [0, -1, 0]])\n",
    "#camera imu\n",
    "imu_tran_R = np.array([[0, 0, 1],\n",
    "                       [1, 0, 0],\n",
    "                       [0, 1, 0]])\n",
    "\n",
    "NED = np.array([[1, 0, 0],\n",
    "              [ 0, -1, 0],\n",
    "              [ 0, 0,-1]])\n",
    "NED @ camera_imu_origin"
   ]
  },
  {
   "cell_type": "code",
   "execution_count": 13,
   "id": "90b5616b-8a22-4f78-8a4c-cc66604417f0",
   "metadata": {},
   "outputs": [
    {
     "data": {
      "text/plain": [
       "array([[-1.,  0.,  0.],\n",
       "       [ 0., -1.,  0.],\n",
       "       [ 0.,  0.,  1.]])"
      ]
     },
     "execution_count": 13,
     "metadata": {},
     "output_type": "execute_result"
    }
   ],
   "source": [
    "np.linalg.inv(imu_tran_R @ imu_origin) @ np.identity(3) @ imu_tran_R"
   ]
  },
  {
   "cell_type": "code",
   "execution_count": 4,
   "id": "c244dce4-6e2d-4c8a-811e-1ff63dc8e328",
   "metadata": {},
   "outputs": [],
   "source": [
    "# # newer college 128\n",
    "# Trans_lidar_imu_origin = np.array([[1, 0, 0],\n",
    "#                                    [0, -1, 0],\n",
    "#                                    [0, 0, -1]])\n",
    "# imu_tran_R = np.array([[1, 0, 0],\n",
    "#                        [0, -1, 0],\n",
    "#                        [0, 0, -1]])\n",
    "# imu_tran_R @ Trans_lidar_imu_origin"
   ]
  },
  {
   "cell_type": "code",
   "execution_count": 5,
   "id": "5bfbdb76-2c34-426a-b700-f36fa2e03f7b",
   "metadata": {},
   "outputs": [],
   "source": [
    "# # newer college 128\n",
    "# Trans_lidar_imu_origin = np.array([[1, 0, 0],\n",
    "#                                    [0, -1, 0],\n",
    "#                                    [0, 0, -1]])\n",
    "# np.linalg.inv(Trans_lidar_imu_origin)"
   ]
  },
  {
   "cell_type": "code",
   "execution_count": 6,
   "id": "11800db4-15c4-4c6d-a5ef-678f1d07913c",
   "metadata": {},
   "outputs": [],
   "source": [
    "# # urbanNav\n",
    "# Trans_lidar_imu_origin = np.array([[-1, 0, 0],\n",
    "#                                    [0, -1, 0],\n",
    "#                                    [0, 0, 1,]])\n",
    "# imu_tran_R = np.array([[-1,  0, 0],\n",
    "#                        [0, 1, 0],\n",
    "#                         [0, 0,-1]])\n",
    "# imu_tran_R @Trans_lidar_imu_origin\n",
    "# # For ENU type IMUs, the orientation of the world frame is x-east, y-north, z-up, relative to magnetic north."
   ]
  },
  {
   "cell_type": "code",
   "execution_count": 7,
   "id": "9f104356-092a-4117-b2d7-1ecf42da0f20",
   "metadata": {},
   "outputs": [],
   "source": [
    "# # urbanNav\n",
    "# Trans_lidar_imu_origin = np.array([ [ 0, 1, 0],\n",
    "#                                     [-1, 0, 0],\n",
    "#                                     [ 0, 0, 1]])\n",
    "# imu_tran_R = np.array([ [ 0, -1, 0],\n",
    "#                       [ -1, 0, 0],\n",
    "#                       [ 0, 0,-1]])\n",
    "# imu_tran_R @ Trans_lidar_imu_origin\n",
    "# # For ENU type IMUs, the orientation of the world frame is x-east, y-north, z-up, relative to magnetic north."
   ]
  },
  {
   "cell_type": "code",
   "execution_count": 8,
   "id": "ac22658e-eb15-4cf6-94b8-74d4982b5e29",
   "metadata": {},
   "outputs": [],
   "source": [
    "# # ntu viral vert lidar\n",
    "# imu_origin = np.array([ [ -1,  0,  0],\n",
    "#                         [  0,  0, -1],\n",
    "#                         [  0, -1,  0]])\n",
    "# imu_tran_R = np.array([[-1.,  0.,  0.],\n",
    "#                       [ 0.,  0.,  1.],\n",
    "#                       [ 0.,  1.,  0.]])\n",
    "# NED = np.array([[1, 0, 0],\n",
    "#               [ 0, -1, 0],\n",
    "#               [ 0, 0,-1]])\n",
    "# imu_tran_R @ np.linalg.inv(imu_origin)"
   ]
  },
  {
   "cell_type": "code",
   "execution_count": null,
   "id": "a9ec0bf2-5a35-401f-a0a5-e7e48e244b28",
   "metadata": {},
   "outputs": [],
   "source": []
  },
  {
   "cell_type": "code",
   "execution_count": null,
   "id": "2a2163c1-07f0-41ef-8122-d1d6712140f6",
   "metadata": {},
   "outputs": [],
   "source": []
  }
 ],
 "metadata": {
  "kernelspec": {
   "display_name": "Python 3 (ipykernel)",
   "language": "python",
   "name": "python3"
  },
  "language_info": {
   "codemirror_mode": {
    "name": "ipython",
    "version": 3
   },
   "file_extension": ".py",
   "mimetype": "text/x-python",
   "name": "python",
   "nbconvert_exporter": "python",
   "pygments_lexer": "ipython3",
   "version": "3.10.12"
  }
 },
 "nbformat": 4,
 "nbformat_minor": 5
}
