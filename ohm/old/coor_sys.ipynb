{
 "cells": [
  {
   "cell_type": "code",
   "execution_count": 1,
   "id": "2aa213f3-c2d1-483b-9745-ff8a84284752",
   "metadata": {},
   "outputs": [],
   "source": [
    "import numpy as np\n",
    "np.set_printoptions(precision=1)"
   ]
  },
  {
   "cell_type": "code",
   "execution_count": 12,
   "id": "6cc325b8-289b-4b14-8b2d-525ac379d549",
   "metadata": {},
   "outputs": [
    {
     "name": "stdout",
     "output_type": "stream",
     "text": [
      "imu_tran_R @ Trans_lidar_imu_origin [[ 1  0  0]\n",
      " [ 0 -1  0]\n",
      " [ 0  0 -1]]\n",
      "Trans_lidar_imu_origin @ imu_tran_R [[ 1  0  0]\n",
      " [ 0 -1  0]\n",
      " [ 0  0 -1]]\n"
     ]
    }
   ],
   "source": [
    "# m2dgr\n",
    "Trans_lidar_imu_origin = np.array([[1, 0, 0], \n",
    "                                   [0, 1, 0], \n",
    "                                   [0, 0, 1,]])\n",
    "imu_tran_R = np.array([ [1,0,0],\n",
    "                        [0,-1,0], \n",
    "                        [0,0,-1]])\n",
    "# For NED type IMUs, the orientation of the world frame is x-north, y-east, z-down, relative to magnetic north.\n",
    "print(\"imu_tran_R @ Trans_lidar_imu_origin\", imu_tran_R @ Trans_lidar_imu_origin)\n",
    "print(\"Trans_lidar_imu_origin @ imu_tran_R\", Trans_lidar_imu_origin @ imu_tran_R)"
   ]
  },
  {
   "cell_type": "code",
   "execution_count": 39,
   "id": "b5f26d19-0cca-4361-bde4-302362ce3436",
   "metadata": {},
   "outputs": [
    {
     "name": "stdout",
     "output_type": "stream",
     "text": [
      "imu_tran_R @ Trans_lidar_imu_origin\n",
      " [[-1.  0.  0.]\n",
      " [ 0.  0. -1.]\n",
      " [ 0. -1.  0.]]\n",
      "imu_tran_R @ Trans_lidar_imu_origin\n",
      " [[ 0.  0.  1.]\n",
      " [ 0. -1.  0.]\n",
      " [ 1.  0.  0.]]\n",
      "imu_tran_R\n",
      " [[-1.  0.  0.]\n",
      " [ 0.  0. -1.]\n",
      " [ 0. -1.  0.]]\n",
      "inv\n",
      " [[-0. -1. -0.]\n",
      " [-0. -0. -1.]\n",
      " [ 1.  0.  0.]]\n"
     ]
    }
   ],
   "source": [
    "# camera m2dgr\n",
    "Trans_lidar_imu_origin = np.array([[0.,  0., 1.],\n",
    "                                   [-1,  0., 0.,],\n",
    "                                   [0.,  -1, 0]])\n",
    "# imu_tran_R = np.array([ [0, -1, 0],\n",
    "#                         [0, 0, 1],\n",
    "#                         [-1, 0, 0]])\n",
    "# imu_tran_R = np.array([ [0, 1, 0],\n",
    "#                         [0, 0, 1],\n",
    "#                         [1, 0, 0]])\n",
    "# imu_tran_R = np.array([ [0, 0, 1],\n",
    "#                         [1, 0, 0],\n",
    "#                         [0, 1, 0]])\n",
    "ENU =  np.array([[ 0, -1, 0],\n",
    "                  [ 1,  0, 0],\n",
    "                  [ 0,  0, 1]])\n",
    "# imu_tran_R = np.array([ [0, 0, 0],\n",
    "#                         [0, 0, 1],\n",
    "#                         [0, 1, 0]])\n",
    "# For NED type IMUs, the orientation of the world frame is x-north, y-east, z-down, relative to magnetic north.\n",
    "# [[ 1  0  0]\n",
    "#  [ 0 -1  0]\n",
    "#  [ 0  0 -1]]\n",
    "#  ENU\n",
    "# [[ 0 -1 0]\n",
    "#  [ 1  0 0]\n",
    "#  [ 0  0 1]]\n",
    "# print(\"Trans_lidar_imu_origin\\n\", Trans_lidar_imu_origin)\n",
    "print(\"imu_tran_R @ Trans_lidar_imu_origin\\n\", np.linalg.inv(ENU) @ Trans_lidar_imu_origin)\n",
    "print(\"imu_tran_R @ Trans_lidar_imu_origin\\n\", Trans_lidar_imu_origin @ np.linalg.inv(ENU))\n",
    "# print(\"imu_tran_R @ Trans_lidar_imu_origin\\n\", np.linalg.inv(Trans_lidar_imu_origin) @ ENU)\n",
    "# print(\"imu_tran_R @ Trans_lidar_imu_origin\\n\", ENU @ np.linalg.inv(Trans_lidar_imu_origin))\n",
    "imu_tran_R =  np.linalg.inv(Trans_lidar_imu_origin) @ ENU\n",
    "print(\"imu_tran_R\\n\", imu_tran_R)\n",
    "print(\"inv\\n\", np.linalg.inv(Trans_lidar_imu_origin))\n",
    "\n",
    "# print(\"np.linalg.inv(Trans_lidar_imu_origin)\", np.linalg.inv(Trans_lidar_imu_origin))\n",
    "# print(\"imu_tran_R @ Trans_lidar_imu_origin\", imu_tran_R @ np.linalg.inv(Trans_lidar_imu_origin))\n",
    "# print(\"Trans_lidar_imu_origin @ imu_tran_R\", np.linalg.inv(Trans_lidar_imu_origin) @ imu_tran_R)"
   ]
  },
  {
   "cell_type": "code",
   "execution_count": 44,
   "id": "ec374e60-6c44-4678-b6d0-264e1d617015",
   "metadata": {},
   "outputs": [],
   "source": [
    "# # newer college\n",
    "# Trans_lidar_imu_origin = np.array([[-1, 0, 0],\n",
    "#                                    [0, -1, 0],\n",
    "#                                    [0, 0, 1]])\n",
    "# imu_tran_R = np.array([ [0, -1,0],\n",
    "#                         [1,0,0],\n",
    "#                         [0,0,1]])\n",
    "# theta_x = 0\n",
    "# theta_y = 0\n",
    "# theta_z = 0\n",
    "# def rot_x(theta):\n",
    "#     return np.array([ [np.cos(theta), -np.sin(theta), 0],\n",
    "#                     [np.sin(theta), np.cos(theta), 0],\n",
    "#                     [            0,             0, 1]])\n",
    "# def rot_y(theta):\n",
    "#     return np.array([ [np.cos(theta), 0, -np.sin(theta)],\n",
    "#                       [            0, 1,              0],\n",
    "#                       [np.sin(theta), 0, np.cos(theta)]]) \n",
    "# def rot_z(theta):\n",
    "#     return np.array([ [ 1,             0,             0],\n",
    "#                       [ 0, np.cos(theta),-np.sin(theta)],\n",
    "#                       [ 0, np.sin(theta), np.cos(theta)]])\n",
    "\n",
    "# for x_i in range(0, 4):\n",
    "#     for y_i in range(0, 4):\n",
    "#         for z_i in range(0, 4):\n",
    "#             theta_x = 0\n",
    "#             theta_y = 0\n",
    "#             theta_z = 0\n",
    "#             theta_x = theta_x + x_i * 90\n",
    "#             theta_y = theta_y + y_i * 90\n",
    "#             theta_z = theta_z+ z_i * 90\n",
    "#             rad_x = np.deg2rad(theta_x)\n",
    "#             rad_y = np.deg2rad(theta_y)\n",
    "#             rad_z = np.deg2rad(theta_z)\n",
    "            \n",
    "#             print(x_i, y_i, z_i)\n",
    "#             print(theta_x, theta_y, theta_z)\n",
    "#             # print(rad_x, rad_y, rad_z)\n",
    "#             print(rot_x(rad_x) @ rot_y(rad_y) @rot_z(rad_z) @imu_tran_R)\n",
    "\n",
    "\n",
    "\n",
    "# print(\"imu_tran_R\\n\", imu_tran_R)\n",
    "# B_inv_A = imu_tran_R @ np.linalg.inv(Trans_lidar_imu_origin)\n",
    "# A_B_inv_A = Trans_lidar_imu_origin @ imu_tran_R @ np.linalg.inv(Trans_lidar_imu_origin)\n",
    "# print(\"B_inv_A\\n\", B_inv_A)\n",
    "# print(\"A_B_inv_A\\n\", A_B_inv_A)"
   ]
  },
  {
   "cell_type": "code",
   "execution_count": 50,
   "id": "719ba7b2-2ddc-46ac-87bc-3605b106a39f",
   "metadata": {},
   "outputs": [
    {
     "data": {
      "text/plain": [
       "array([[ 1.,  0.,  0.],\n",
       "       [ 0.,  1.,  0.],\n",
       "       [ 0.,  0., -1.]])"
      ]
     },
     "execution_count": 50,
     "metadata": {},
     "output_type": "execute_result"
    }
   ],
   "source": [
    "# newer college\n",
    "Trans_lidar_imu_origin = np.array([[-1, 0, 0],\n",
    "                                   [0, -1, 0],\n",
    "                                   [0, 0, 1]])\n",
    "imu_tran_R = np.array([[ -1,  0,   0],\n",
    "                         [ 0, -1,   0],\n",
    "                         [ 0,  0,  -1]])\n",
    "imu_tran_R @ np.linalg.inv(Trans_lidar_imu_origin)"
   ]
  },
  {
   "cell_type": "code",
   "execution_count": 43,
   "id": "11800db4-15c4-4c6d-a5ef-678f1d07913c",
   "metadata": {},
   "outputs": [
    {
     "data": {
      "text/plain": [
       "array([[ 0,  1,  0],\n",
       "       [ 1,  0,  0],\n",
       "       [ 0,  0, -1]])"
      ]
     },
     "execution_count": 43,
     "metadata": {},
     "output_type": "execute_result"
    }
   ],
   "source": [
    "# urbanNav\n",
    "Trans_lidar_imu_origin = np.array([[1, 0, 0],\n",
    "                                   [0, 1, 0],\n",
    "                                   [0, 0, 1,]])\n",
    "imu_tran_R = np.array([ [0, 1, 0,],\n",
    "                        [1, 0, 0], \n",
    "                        [0, 0, -1]])\n",
    "imu_tran_R @ Trans_lidar_imu_origin\n",
    "# For ENU type IMUs, the orientation of the world frame is x-east, y-north, z-up, relative to magnetic north."
   ]
  },
  {
   "cell_type": "code",
   "execution_count": null,
   "id": "9f104356-092a-4117-b2d7-1ecf42da0f20",
   "metadata": {},
   "outputs": [],
   "source": []
  }
 ],
 "metadata": {
  "kernelspec": {
   "display_name": "Python 3 (ipykernel)",
   "language": "python",
   "name": "python3"
  },
  "language_info": {
   "codemirror_mode": {
    "name": "ipython",
    "version": 3
   },
   "file_extension": ".py",
   "mimetype": "text/x-python",
   "name": "python",
   "nbconvert_exporter": "python",
   "pygments_lexer": "ipython3",
   "version": "3.10.12"
  }
 },
 "nbformat": 4,
 "nbformat_minor": 5
}
