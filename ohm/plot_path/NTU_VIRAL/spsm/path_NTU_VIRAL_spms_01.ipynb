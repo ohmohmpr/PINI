{
 "cells": [
  {
   "cell_type": "code",
   "execution_count": 1,
   "id": "20a5509f-30bc-4cca-bc6e-43a9bc38df2e",
   "metadata": {},
   "outputs": [],
   "source": [
    "import matplotlib.pyplot as plt\n",
    "import numpy as np"
   ]
  },
  {
   "cell_type": "code",
   "execution_count": 2,
   "id": "b0418215-d38d-46ae-9709-92caa55cec6a",
   "metadata": {
    "editable": true,
    "slideshow": {
     "slide_type": ""
    },
    "tags": []
   },
   "outputs": [
    {
     "ename": "FileNotFoundError",
     "evalue": "../../../dataset/rosbag/ntu_viral/spms_01/odom_poses_kitti.txt not found.",
     "output_type": "error",
     "traceback": [
      "\u001b[0;31m---------------------------------------------------------------------------\u001b[0m",
      "\u001b[0;31mFileNotFoundError\u001b[0m                         Traceback (most recent call last)",
      "Cell \u001b[0;32mIn[2], line 7\u001b[0m\n\u001b[1;32m      3\u001b[0m LIOEKF_IN_PIN_os1_cloud_node1_imu_newIMUProcess \u001b[38;5;241m=\u001b[39m np\u001b[38;5;241m.\u001b[39mloadtxt(\u001b[38;5;124m'\u001b[39m\u001b[38;5;124m../../../dataset/rosbag/ntu_viral/spms_01/pin_lio_ekf_odo_newIMUProcess.txt\u001b[39m\u001b[38;5;124m'\u001b[39m, \n\u001b[1;32m      4\u001b[0m                                       usecols\u001b[38;5;241m=\u001b[39m(\u001b[38;5;241m1\u001b[39m,\u001b[38;5;241m2\u001b[39m,\u001b[38;5;241m3\u001b[39m), skiprows\u001b[38;5;241m=\u001b[39m\u001b[38;5;241m65\u001b[39m, unpack\u001b[38;5;241m=\u001b[39m\u001b[38;5;28;01mTrue\u001b[39;00m)\n\u001b[1;32m      5\u001b[0m LIOEKF_IN_PIN_os1_cloud_node1_imu_update \u001b[38;5;241m=\u001b[39m np\u001b[38;5;241m.\u001b[39mloadtxt(\u001b[38;5;124m'\u001b[39m\u001b[38;5;124m../../../dataset/rosbag/ntu_viral/spms_01/pin_lio_ekf_odo_update.txt\u001b[39m\u001b[38;5;124m'\u001b[39m, \n\u001b[1;32m      6\u001b[0m                                       usecols\u001b[38;5;241m=\u001b[39m(\u001b[38;5;241m1\u001b[39m,\u001b[38;5;241m2\u001b[39m,\u001b[38;5;241m3\u001b[39m), skiprows\u001b[38;5;241m=\u001b[39m\u001b[38;5;241m65\u001b[39m, unpack\u001b[38;5;241m=\u001b[39m\u001b[38;5;28;01mTrue\u001b[39;00m)\n\u001b[0;32m----> 7\u001b[0m pin_odom \u001b[38;5;241m=\u001b[39m \u001b[43mnp\u001b[49m\u001b[38;5;241;43m.\u001b[39;49m\u001b[43mloadtxt\u001b[49m\u001b[43m(\u001b[49m\u001b[38;5;124;43m'\u001b[39;49m\u001b[38;5;124;43m../../../dataset/rosbag/ntu_viral/spms_01/odom_poses_kitti.txt\u001b[39;49m\u001b[38;5;124;43m'\u001b[39;49m\u001b[43m,\u001b[49m\u001b[43m \u001b[49m\u001b[43mdelimiter\u001b[49m\u001b[38;5;241;43m=\u001b[39;49m\u001b[38;5;124;43m'\u001b[39;49m\u001b[38;5;124;43m \u001b[39;49m\u001b[38;5;124;43m'\u001b[39;49m\u001b[43m,\u001b[49m\u001b[43m \u001b[49m\u001b[43musecols\u001b[49m\u001b[38;5;241;43m=\u001b[39;49m\u001b[43m(\u001b[49m\u001b[38;5;241;43m3\u001b[39;49m\u001b[43m,\u001b[49m\u001b[43m \u001b[49m\u001b[38;5;241;43m7\u001b[39;49m\u001b[43m,\u001b[49m\u001b[43m \u001b[49m\u001b[38;5;241;43m11\u001b[39;49m\u001b[43m)\u001b[49m\u001b[43m,\u001b[49m\u001b[43m \u001b[49m\u001b[43munpack\u001b[49m\u001b[38;5;241;43m=\u001b[39;49m\u001b[38;5;28;43;01mTrue\u001b[39;49;00m\u001b[43m)\u001b[49m\n\u001b[1;32m      8\u001b[0m pin_slam \u001b[38;5;241m=\u001b[39m np\u001b[38;5;241m.\u001b[39mloadtxt(\u001b[38;5;124m'\u001b[39m\u001b[38;5;124m../../../dataset/rosbag/ntu_viral/spms_01/slam_poses_kitti.txt\u001b[39m\u001b[38;5;124m'\u001b[39m, delimiter\u001b[38;5;241m=\u001b[39m\u001b[38;5;124m'\u001b[39m\u001b[38;5;124m \u001b[39m\u001b[38;5;124m'\u001b[39m, usecols\u001b[38;5;241m=\u001b[39m(\u001b[38;5;241m3\u001b[39m, \u001b[38;5;241m7\u001b[39m, \u001b[38;5;241m11\u001b[39m), unpack\u001b[38;5;241m=\u001b[39m\u001b[38;5;28;01mTrue\u001b[39;00m)\n",
      "File \u001b[0;32m~/.local/lib/python3.10/site-packages/numpy/lib/npyio.py:1373\u001b[0m, in \u001b[0;36mloadtxt\u001b[0;34m(fname, dtype, comments, delimiter, converters, skiprows, usecols, unpack, ndmin, encoding, max_rows, quotechar, like)\u001b[0m\n\u001b[1;32m   1370\u001b[0m \u001b[38;5;28;01mif\u001b[39;00m \u001b[38;5;28misinstance\u001b[39m(delimiter, \u001b[38;5;28mbytes\u001b[39m):\n\u001b[1;32m   1371\u001b[0m     delimiter \u001b[38;5;241m=\u001b[39m delimiter\u001b[38;5;241m.\u001b[39mdecode(\u001b[38;5;124m'\u001b[39m\u001b[38;5;124mlatin1\u001b[39m\u001b[38;5;124m'\u001b[39m)\n\u001b[0;32m-> 1373\u001b[0m arr \u001b[38;5;241m=\u001b[39m \u001b[43m_read\u001b[49m\u001b[43m(\u001b[49m\u001b[43mfname\u001b[49m\u001b[43m,\u001b[49m\u001b[43m \u001b[49m\u001b[43mdtype\u001b[49m\u001b[38;5;241;43m=\u001b[39;49m\u001b[43mdtype\u001b[49m\u001b[43m,\u001b[49m\u001b[43m \u001b[49m\u001b[43mcomment\u001b[49m\u001b[38;5;241;43m=\u001b[39;49m\u001b[43mcomment\u001b[49m\u001b[43m,\u001b[49m\u001b[43m \u001b[49m\u001b[43mdelimiter\u001b[49m\u001b[38;5;241;43m=\u001b[39;49m\u001b[43mdelimiter\u001b[49m\u001b[43m,\u001b[49m\n\u001b[1;32m   1374\u001b[0m \u001b[43m            \u001b[49m\u001b[43mconverters\u001b[49m\u001b[38;5;241;43m=\u001b[39;49m\u001b[43mconverters\u001b[49m\u001b[43m,\u001b[49m\u001b[43m \u001b[49m\u001b[43mskiplines\u001b[49m\u001b[38;5;241;43m=\u001b[39;49m\u001b[43mskiprows\u001b[49m\u001b[43m,\u001b[49m\u001b[43m \u001b[49m\u001b[43musecols\u001b[49m\u001b[38;5;241;43m=\u001b[39;49m\u001b[43musecols\u001b[49m\u001b[43m,\u001b[49m\n\u001b[1;32m   1375\u001b[0m \u001b[43m            \u001b[49m\u001b[43munpack\u001b[49m\u001b[38;5;241;43m=\u001b[39;49m\u001b[43munpack\u001b[49m\u001b[43m,\u001b[49m\u001b[43m \u001b[49m\u001b[43mndmin\u001b[49m\u001b[38;5;241;43m=\u001b[39;49m\u001b[43mndmin\u001b[49m\u001b[43m,\u001b[49m\u001b[43m \u001b[49m\u001b[43mencoding\u001b[49m\u001b[38;5;241;43m=\u001b[39;49m\u001b[43mencoding\u001b[49m\u001b[43m,\u001b[49m\n\u001b[1;32m   1376\u001b[0m \u001b[43m            \u001b[49m\u001b[43mmax_rows\u001b[49m\u001b[38;5;241;43m=\u001b[39;49m\u001b[43mmax_rows\u001b[49m\u001b[43m,\u001b[49m\u001b[43m \u001b[49m\u001b[43mquote\u001b[49m\u001b[38;5;241;43m=\u001b[39;49m\u001b[43mquotechar\u001b[49m\u001b[43m)\u001b[49m\n\u001b[1;32m   1378\u001b[0m \u001b[38;5;28;01mreturn\u001b[39;00m arr\n",
      "File \u001b[0;32m~/.local/lib/python3.10/site-packages/numpy/lib/npyio.py:992\u001b[0m, in \u001b[0;36m_read\u001b[0;34m(fname, delimiter, comment, quote, imaginary_unit, usecols, skiplines, max_rows, converters, ndmin, unpack, dtype, encoding)\u001b[0m\n\u001b[1;32m    990\u001b[0m     fname \u001b[38;5;241m=\u001b[39m os\u001b[38;5;241m.\u001b[39mfspath(fname)\n\u001b[1;32m    991\u001b[0m \u001b[38;5;28;01mif\u001b[39;00m \u001b[38;5;28misinstance\u001b[39m(fname, \u001b[38;5;28mstr\u001b[39m):\n\u001b[0;32m--> 992\u001b[0m     fh \u001b[38;5;241m=\u001b[39m \u001b[43mnp\u001b[49m\u001b[38;5;241;43m.\u001b[39;49m\u001b[43mlib\u001b[49m\u001b[38;5;241;43m.\u001b[39;49m\u001b[43m_datasource\u001b[49m\u001b[38;5;241;43m.\u001b[39;49m\u001b[43mopen\u001b[49m\u001b[43m(\u001b[49m\u001b[43mfname\u001b[49m\u001b[43m,\u001b[49m\u001b[43m \u001b[49m\u001b[38;5;124;43m'\u001b[39;49m\u001b[38;5;124;43mrt\u001b[39;49m\u001b[38;5;124;43m'\u001b[39;49m\u001b[43m,\u001b[49m\u001b[43m \u001b[49m\u001b[43mencoding\u001b[49m\u001b[38;5;241;43m=\u001b[39;49m\u001b[43mencoding\u001b[49m\u001b[43m)\u001b[49m\n\u001b[1;32m    993\u001b[0m     \u001b[38;5;28;01mif\u001b[39;00m encoding \u001b[38;5;129;01mis\u001b[39;00m \u001b[38;5;28;01mNone\u001b[39;00m:\n\u001b[1;32m    994\u001b[0m         encoding \u001b[38;5;241m=\u001b[39m \u001b[38;5;28mgetattr\u001b[39m(fh, \u001b[38;5;124m'\u001b[39m\u001b[38;5;124mencoding\u001b[39m\u001b[38;5;124m'\u001b[39m, \u001b[38;5;124m'\u001b[39m\u001b[38;5;124mlatin1\u001b[39m\u001b[38;5;124m'\u001b[39m)\n",
      "File \u001b[0;32m~/.local/lib/python3.10/site-packages/numpy/lib/_datasource.py:193\u001b[0m, in \u001b[0;36mopen\u001b[0;34m(path, mode, destpath, encoding, newline)\u001b[0m\n\u001b[1;32m    156\u001b[0m \u001b[38;5;250m\u001b[39m\u001b[38;5;124;03m\"\"\"\u001b[39;00m\n\u001b[1;32m    157\u001b[0m \u001b[38;5;124;03mOpen `path` with `mode` and return the file object.\u001b[39;00m\n\u001b[1;32m    158\u001b[0m \n\u001b[0;32m   (...)\u001b[0m\n\u001b[1;32m    189\u001b[0m \n\u001b[1;32m    190\u001b[0m \u001b[38;5;124;03m\"\"\"\u001b[39;00m\n\u001b[1;32m    192\u001b[0m ds \u001b[38;5;241m=\u001b[39m DataSource(destpath)\n\u001b[0;32m--> 193\u001b[0m \u001b[38;5;28;01mreturn\u001b[39;00m \u001b[43mds\u001b[49m\u001b[38;5;241;43m.\u001b[39;49m\u001b[43mopen\u001b[49m\u001b[43m(\u001b[49m\u001b[43mpath\u001b[49m\u001b[43m,\u001b[49m\u001b[43m \u001b[49m\u001b[43mmode\u001b[49m\u001b[43m,\u001b[49m\u001b[43m \u001b[49m\u001b[43mencoding\u001b[49m\u001b[38;5;241;43m=\u001b[39;49m\u001b[43mencoding\u001b[49m\u001b[43m,\u001b[49m\u001b[43m \u001b[49m\u001b[43mnewline\u001b[49m\u001b[38;5;241;43m=\u001b[39;49m\u001b[43mnewline\u001b[49m\u001b[43m)\u001b[49m\n",
      "File \u001b[0;32m~/.local/lib/python3.10/site-packages/numpy/lib/_datasource.py:533\u001b[0m, in \u001b[0;36mDataSource.open\u001b[0;34m(self, path, mode, encoding, newline)\u001b[0m\n\u001b[1;32m    530\u001b[0m     \u001b[38;5;28;01mreturn\u001b[39;00m _file_openers[ext](found, mode\u001b[38;5;241m=\u001b[39mmode,\n\u001b[1;32m    531\u001b[0m                               encoding\u001b[38;5;241m=\u001b[39mencoding, newline\u001b[38;5;241m=\u001b[39mnewline)\n\u001b[1;32m    532\u001b[0m \u001b[38;5;28;01melse\u001b[39;00m:\n\u001b[0;32m--> 533\u001b[0m     \u001b[38;5;28;01mraise\u001b[39;00m \u001b[38;5;167;01mFileNotFoundError\u001b[39;00m(\u001b[38;5;124mf\u001b[39m\u001b[38;5;124m\"\u001b[39m\u001b[38;5;132;01m{\u001b[39;00mpath\u001b[38;5;132;01m}\u001b[39;00m\u001b[38;5;124m not found.\u001b[39m\u001b[38;5;124m\"\u001b[39m)\n",
      "\u001b[0;31mFileNotFoundError\u001b[0m: ../../../dataset/rosbag/ntu_viral/spms_01/odom_poses_kitti.txt not found."
     ]
    }
   ],
   "source": [
    "LIOEKF_os1_cloud_node1_imu = np.loadtxt('../../../dataset/rosbag/ntu_viral/spms_01/lio_ekf_01.txt', usecols=(1,2,3), unpack=True)\n",
    "LIOEKF_IN_PIN_os1_cloud_node1_imu = np.loadtxt('../../../dataset/rosbag/ntu_viral/spms_01/pin_lio_ekf_odo_os1_cloud_node1.txt', usecols=(1,2,3), skiprows=65, unpack=True)\n",
    "LIOEKF_IN_PIN_os1_cloud_node1_imu_newIMUProcess = np.loadtxt('../../../dataset/rosbag/ntu_viral/spms_01/pin_lio_ekf_odo_newIMUProcess.txt', \n",
    "                                      usecols=(1,2,3), skiprows=65, unpack=True)\n",
    "LIOEKF_IN_PIN_os1_cloud_node1_imu_update = np.loadtxt('../../../dataset/rosbag/ntu_viral/spms_01/pin_lio_ekf_odo_update.txt', \n",
    "                                      usecols=(1,2,3), skiprows=65, unpack=True)\n",
    "pin_odom = np.loadtxt('../../../dataset/rosbag/ntu_viral/spms_01/odom_poses_kitti.txt', delimiter=' ', usecols=(3, 7, 11), unpack=True)\n",
    "pin_slam = np.loadtxt('../../../dataset/rosbag/ntu_viral/spms_01/slam_poses_kitti.txt', delimiter=' ', usecols=(3, 7, 11), unpack=True)"
   ]
  },
  {
   "cell_type": "code",
   "execution_count": null,
   "id": "a5b4ca3d-2c0b-4eb1-9486-81685ea8b22c",
   "metadata": {},
   "outputs": [],
   "source": [
    "trans = np.array([[ 1,  0,  0],\n",
    "                  [ 0,  1,  0],\n",
    "                  [ 0,  0, -1]])\n",
    "\n",
    "LIOEKF_os1_cloud_node1_imu = trans @ LIOEKF_os1_cloud_node1_imu\n",
    "LIOEKF_IN_PIN_os1_cloud_node1_imu = trans @ LIOEKF_IN_PIN_os1_cloud_node1_imu\n",
    "LIOEKF_IN_PIN_os1_cloud_node1_imu_newIMUProcess = trans @ LIOEKF_IN_PIN_os1_cloud_node1_imu_newIMUProcess\n",
    "LIOEKF_IN_PIN_os1_cloud_node1_imu_update = trans @ LIOEKF_IN_PIN_os1_cloud_node1_imu_update\n",
    "\n",
    "pin_odom = trans @ pin_odom\n",
    "pin_slam = trans @ pin_slam"
   ]
  },
  {
   "cell_type": "code",
   "execution_count": null,
   "id": "a43515c8-384a-4e96-bbd0-d9b2824a752e",
   "metadata": {},
   "outputs": [],
   "source": [
    "figure, axis = plt.subplots(3, 2, sharex=True, sharey=True, figsize=(12, 12))\n",
    "\n",
    "axis[0][0].plot(LIOEKF_os1_cloud_node1_imu[0], LIOEKF_os1_cloud_node1_imu[1])\n",
    "axis[0][0].set_title(\"LIO-EKF on /os1_cloud_node1/imu topic\")\n",
    "axis[0][1].plot(LIOEKF_IN_PIN_os1_cloud_node1_imu[0], LIOEKF_IN_PIN_os1_cloud_node1_imu[1])\n",
    "axis[0][1].set_title(\"LIO-EKF IN PIN on /os1_cloud_node1/imu topic \")\n",
    "axis[1][0].plot(LIOEKF_IN_PIN_os1_cloud_node1_imu_newIMUProcess[0], LIOEKF_IN_PIN_os1_cloud_node1_imu_newIMUProcess[1])\n",
    "axis[1][0].set_title(\"LIO-EKF IN PIN on /os1_cloud_node1/imu topic, newIMUProcess\")\n",
    "axis[1][1].plot(LIOEKF_IN_PIN_os1_cloud_node1_imu_update[0], LIOEKF_IN_PIN_os1_cloud_node1_imu_update[1])\n",
    "axis[1][1].set_title(\"LIO-EKF IN PIN on /os1_cloud_node1/imu topic, update function\")\n",
    "axis[2][0].plot(pin_odom[0], pin_odom[1])\n",
    "axis[2][0].set_title(\"PIN odometry\")\n",
    "axis[2][1].plot(pin_slam[0], pin_slam[1])\n",
    "axis[2][1].set_title(\"PIN SLAM\")\n",
    "\n",
    "figure.supxlabel('X - distance [m]')\n",
    "figure.supylabel('Y - distance [m]')\n",
    "plt.show()"
   ]
  },
  {
   "cell_type": "code",
   "execution_count": null,
   "id": "6df9d748-ebb1-4797-91d3-d9ec65362349",
   "metadata": {},
   "outputs": [],
   "source": [
    "plt.plot(LIOEKF_os1_cloud_node1_imu[0], LIOEKF_os1_cloud_node1_imu[1], label='LIO-EKF on /os1_cloud_node1/imu topic', color='b') \n",
    "plt.plot(LIOEKF_IN_PIN_os1_cloud_node1_imu[0], LIOEKF_IN_PIN_os1_cloud_node1_imu[1], label='LIO-EKF IN PIN on /os1_cloud_node1/imu topic', color='g') \n",
    "plt.plot(LIOEKF_IN_PIN_os1_cloud_node1_imu_newIMUProcess[0], LIOEKF_IN_PIN_os1_cloud_node1_imu_newIMUProcess[1], \n",
    "         label='LIO-EKF IN PIN on /os1_cloud_node1/imu topic, newIMUProcess', color='r') \n",
    "plt.plot(LIOEKF_IN_PIN_os1_cloud_node1_imu_update[0], LIOEKF_IN_PIN_os1_cloud_node1_imu_update[1], \n",
    "         label='LIO-EKF IN PIN on /os1_cloud_node1/imu topic, update function', color='c') \n",
    "# plt.plot(pin_odom[0], pin_odom[1], label='PIN odometry', color='m') \n",
    "plt.plot(pin_slam[0], pin_slam[1], label='PIN SLAM', color='k') \n",
    "\n",
    "plt.legend()\n",
    "plt.rcParams[\"figure.figsize\"] = (16, 16)\n",
    "\n",
    "plt.xlabel('X - distance [m]')\n",
    "plt.ylabel('Y - distance [m]')\n",
    "plt.show()"
   ]
  },
  {
   "cell_type": "markdown",
   "id": "fa8b1fd1-d09d-4748-a54b-01e0e1344fa2",
   "metadata": {},
   "source": [
    "# PLOT HEIGHT"
   ]
  },
  {
   "cell_type": "code",
   "execution_count": null,
   "id": "751a1100-823c-481b-81d3-84f985e98a0a",
   "metadata": {},
   "outputs": [],
   "source": [
    "plt.plot(LIOEKF_os1_cloud_node1_imu[0], LIOEKF_os1_cloud_node1_imu[2], label='LIO-EKF on /os1_cloud_node1/imu topic', color='b') \n",
    "plt.plot(LIOEKF_IN_PIN_os1_cloud_node1_imu[0], LIOEKF_IN_PIN_os1_cloud_node1_imu[2], label='LIO-EKF IN PIN on /os1_cloud_node1/imu topic', color='g') \n",
    "plt.plot(LIOEKF_IN_PIN_os1_cloud_node1_imu_newIMUProcess[0], LIOEKF_IN_PIN_os1_cloud_node1_imu_newIMUProcess[2]\n",
    "         , label='LIO-EKF IN PIN on /os1_cloud_node1/imu topic, newIMUProcess', color='r') \n",
    "plt.plot(LIOEKF_IN_PIN_os1_cloud_node1_imu_update[0], LIOEKF_IN_PIN_os1_cloud_node1_imu_update[2]\n",
    "         , label='LIO-EKF IN PIN on /os1_cloud_node1/imu topic, update function', color='c') \n",
    "# plt.plot(pin_odom[0], pin_odom[2], label='PIN odometry', color='m')\n",
    "plt.plot(pin_slam[0], pin_slam[2], label='PIN SLAM', color='k') \n",
    "\n",
    "plt.legend()\n",
    "plt.rcParams[\"figure.figsize\"] = (16, 16)\n",
    "\n",
    "plt.xlabel('X - distance [m]')\n",
    "plt.ylabel('Z - distance [m]')\n",
    "plt.show()"
   ]
  },
  {
   "cell_type": "code",
   "execution_count": null,
   "id": "fdcaa2f2-7032-4e79-9eee-b242b0ed624b",
   "metadata": {},
   "outputs": [],
   "source": [
    "plt.plot(LIOEKF_os1_cloud_node1_imu[1], LIOEKF_os1_cloud_node1_imu[2], label='LIO-EKF on /os1_cloud_node1/imu topic', color='b') \n",
    "plt.plot(LIOEKF_IN_PIN_os1_cloud_node1_imu[1], LIOEKF_IN_PIN_os1_cloud_node1_imu[2], label='LIO-EKF IN PIN on /os1_cloud_node1/imu topic', color='g') \n",
    "plt.plot(LIOEKF_IN_PIN_os1_cloud_node1_imu_newIMUProcess[1], LIOEKF_IN_PIN_os1_cloud_node1_imu_newIMUProcess[2]\n",
    "         , label='LIO-EKF IN PIN on /os1_cloud_node1/imu topic, newIMUProcess', color='r') \n",
    "plt.plot(LIOEKF_IN_PIN_os1_cloud_node1_imu_update[1], LIOEKF_IN_PIN_os1_cloud_node1_imu_update[2]\n",
    "         , label='LIO-EKF IN PIN on /os1_cloud_node1/imu topic, update function', color='c') \n",
    "# plt.plot(pin_odom[1], pin_odom[2], label='PIN odometry', color='m')\n",
    "plt.plot(pin_slam[1], pin_slam[2], label='PIN SLAM', color='k') \n",
    "\n",
    "plt.legend()\n",
    "plt.rcParams[\"figure.figsize\"] = (16, 16)\n",
    "\n",
    "plt.xlabel('Y - distance [m]')\n",
    "plt.ylabel('Z - distance [m]')\n",
    "plt.show()"
   ]
  },
  {
   "cell_type": "code",
   "execution_count": null,
   "id": "93348bb5-bf70-43f7-8ce8-377be68dc62c",
   "metadata": {},
   "outputs": [],
   "source": []
  }
 ],
 "metadata": {
  "kernelspec": {
   "display_name": "Python 3 (ipykernel)",
   "language": "python",
   "name": "python3"
  },
  "language_info": {
   "codemirror_mode": {
    "name": "ipython",
    "version": 3
   },
   "file_extension": ".py",
   "mimetype": "text/x-python",
   "name": "python",
   "nbconvert_exporter": "python",
   "pygments_lexer": "ipython3",
   "version": "3.10.12"
  }
 },
 "nbformat": 4,
 "nbformat_minor": 5
}
